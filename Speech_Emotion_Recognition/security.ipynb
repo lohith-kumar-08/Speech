{
 "cells": [
  {
   "cell_type": "code",
   "execution_count": 6,
   "metadata": {},
   "outputs": [],
   "source": [
    "from cryptography.fernet import Fernet"
   ]
  },
  {
   "cell_type": "code",
   "execution_count": 7,
   "metadata": {},
   "outputs": [
    {
     "name": "stdout",
     "output_type": "stream",
     "text": [
      "b'pPXG4dkOXm-rK_2TjbCQ47gGGAQpJogmcekmAtNR9OA='\n"
     ]
    }
   ],
   "source": [
    "key = Fernet.generate_key()\n",
    "print(key)"
   ]
  },
  {
   "cell_type": "code",
   "execution_count": 9,
   "metadata": {},
   "outputs": [
    {
     "name": "stdout",
     "output_type": "stream",
     "text": [
      "<cryptography.fernet.Fernet object at 0x0000022B1F976ED0>\n"
     ]
    }
   ],
   "source": [
    "fernet = Fernet(key)\n",
    "with open('key.key','wb') as filekey:\n",
    "    filekey.write(key)\n",
    "\n",
    "with open('key.key','rb') as filekey:\n",
    "    filekey.read()\n",
    "\n",
    "with open('test/Happy.wav','rb') as file:\n",
    "    originalAudio = file.read()\n",
    "\n",
    "ecncryptAudio = fernet.encrypt(originalAudio)\n",
    "\n",
    "with open('voiceEncryption.wav','wb') as encryptedFile:\n",
    "    encryptedFile.write(ecncryptAudio)\n",
    "print(fernet)"
   ]
  },
  {
   "cell_type": "code",
   "execution_count": 10,
   "metadata": {},
   "outputs": [
    {
     "name": "stdout",
     "output_type": "stream",
     "text": [
      "<cryptography.fernet.Fernet object at 0x0000022B1F704A10>\n"
     ]
    }
   ],
   "source": [
    "fernet = Fernet(key)\n",
    "\n",
    "with open('voiceEncryption.wav','rb') as encFile:\n",
    "    encrypted  = encFile.read()\n",
    "\n",
    "decrypted = fernet.decrypt(encrypted)\n",
    "\n",
    "with open('voiceDecryption.wav','wb') as decryptedFile:\n",
    "    decryptedFile.write(decrypted)\n",
    "print(fernet)"
   ]
  },
  {
   "cell_type": "code",
   "execution_count": null,
   "metadata": {},
   "outputs": [],
   "source": []
  }
 ],
 "metadata": {
  "kernelspec": {
   "display_name": "Python 3",
   "language": "python",
   "name": "python3"
  },
  "language_info": {
   "codemirror_mode": {
    "name": "ipython",
    "version": 3
   },
   "file_extension": ".py",
   "mimetype": "text/x-python",
   "name": "python",
   "nbconvert_exporter": "python",
   "pygments_lexer": "ipython3",
   "version": "3.11.5"
  },
  "orig_nbformat": 4
 },
 "nbformat": 4,
 "nbformat_minor": 2
}
